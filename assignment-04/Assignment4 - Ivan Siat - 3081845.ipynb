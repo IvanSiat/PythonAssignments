{
 "cells": [
  {
   "cell_type": "markdown",
   "metadata": {},
   "source": [
    "Ivan Siat - 3081845 Assignment 4"
   ]
  },
  {
   "cell_type": "markdown",
   "metadata": {},
   "source": [
    "Exercise 7.1. Copy the loop from Section 7.5 and encapsulate it in a function called mysqrt that\n",
    "takes a as a parameter, chooses a reasonable value of x, and returns an estimate of the square root of\n",
    "a.\n",
    "To test it, write a function named test_square_root that prints a table like this:\n",
    "\n",
    "a mysqrt(a) math.sqrt(a) diff\n",
    "- --------- ------------ ----\n",
    "1.0 1.0 1.0 0.0\n",
    "2.0 1.41421356237 1.41421356237 2.22044604925e-16\n",
    "3.0 1.73205080757 1.73205080757 0.0\n",
    "4.0 2.0 2.0 0.0\n",
    "5.0 2.2360679775 2.2360679775 0.0\n",
    "6.0 2.44948974278 2.44948974278 0.0\n",
    "7.0 2.64575131106 2.64575131106 0.0\n",
    "8.0 2.82842712475 2.82842712475 4.4408920985e-16\n",
    "9.0 3.0 3.0 0.0\n",
    "\n",
    "The first column is a number, a; the second column is the square root of a computed with mysqrt;\n",
    "the third column is the square root computed by math.sqrt; the fourth column is the absolute value\n",
    "of the difference between the two estimates."
   ]
  },
  {
   "cell_type": "code",
   "execution_count": 60,
   "metadata": {},
   "outputs": [
    {
     "name": "stdout",
     "output_type": "stream",
     "text": [
      "a  mysqrt(a)            math.sqrt(a)          diff\n",
      "-  ---------            ------------          ----\n",
      "1  1.0                  1.0                   0.0\n",
      "2  1.4142135623730954   1.4142135623730951    2.220446049250313e-16\n",
      "3  1.7320508075688772   1.7320508075688772    0.0\n",
      "4  2.0                  2.0                   0.0\n",
      "5  2.23606797749979     2.23606797749979      0.0\n",
      "6  2.449489742783178    2.449489742783178     0.0\n",
      "7  2.6457513110645907   2.6457513110645907    0.0\n",
      "8  2.82842712474619     2.8284271247461903    4.440892098500626e-16\n",
      "9  3.0                  3.0                   0.0\n"
     ]
    }
   ],
   "source": [
    "import math, random\n",
    "\n",
    "def mysqrt(a,x):\n",
    "    epsilon = 0.000000000000001\n",
    "    while True:\n",
    "        y = (x + a/x) / 2\n",
    "        if abs(y-x) < epsilon:\n",
    "            break\n",
    "        x = y\n",
    "    return x\n",
    "\n",
    "def test_square_root():\n",
    "    x= 5\n",
    "    a = 1\n",
    "    print('a', ' mysqrt(a)', '           math.sqrt(a)', '         diff')\n",
    "    print('-', ' ---------', '           ------------', '         ----')\n",
    "    \n",
    "    while a < 10:\n",
    "        msqrt = mysqrt(a,x)\n",
    "        mathsqrt = math.sqrt(a)\n",
    "        diff = msqrt-mathsqrt\n",
    "        \n",
    "        print(f\"{a:<1}  {msqrt:<20} {mathsqrt:<20}  {abs(diff)}\")\n",
    "        a += 1\n",
    "        \n",
    "def pytest_square_root():\n",
    "    b = random.random() * 1_000_000\n",
    "    epsilon = 0.000000000000001\n",
    "    assert abs(mysqrt(b, 5)-math.sqrt(b)) < epsilon\n",
    "    \n",
    "#test cases\n",
    "test_square_root()\n",
    "pytest_square_root()"
   ]
  },
  {
   "cell_type": "markdown",
   "metadata": {},
   "source": [
    "Exercise 8.4. The following functions are all intended to check whether a string contains any\n",
    "lowercase letters, but at least some of them are wrong. For each function, describe what the function\n",
    "actually does (assuming that the parameter is a string).\n"
   ]
  },
  {
   "cell_type": "code",
   "execution_count": 1,
   "metadata": {},
   "outputs": [
    {
     "name": "stdout",
     "output_type": "stream",
     "text": [
      "False\n",
      "True\n",
      "True\n",
      "True\n",
      "False\n"
     ]
    }
   ],
   "source": [
    "def any_lowercase1(s):\n",
    "    for c in s:\n",
    "        if c.islower():\n",
    "            return True\n",
    "        else:\n",
    "            return False\n",
    "\n",
    "def any_lowercase2(s):\n",
    "    for c in s:\n",
    "        if 'c'.islower():\n",
    "            return 'True'\n",
    "        else:\n",
    "            return 'False'\n",
    "\n",
    "def any_lowercase3(s):\n",
    "    for c in s:\n",
    "        flag = c.islower()\n",
    "    return flag\n",
    "\n",
    "def any_lowercase4(s):\n",
    "    flag = False\n",
    "    for c in s:\n",
    "        flag = flag or c.islower()\n",
    "    return flag\n",
    "\n",
    "def any_lowercase5(s):\n",
    "    for c in s:\n",
    "        if not c.islower():\n",
    "            return False\n",
    "    return True\n",
    "\n",
    "#test cases\n",
    "print(any_lowercase1('Hello'))\n",
    "print(any_lowercase2('Hello'))\n",
    "print(any_lowercase3('Hello'))\n",
    "print(any_lowercase4('Hello'))\n",
    "print(any_lowercase5('Hello'))\n",
    "\n",
    "#fix\n",
    "def any_lowercasefix(s): #this is a copy of any_lowercase4 with explanation in comments\n",
    "    flag = False #this is the base case, assume it will be False unless proven otherwise\n",
    "    for c in s: #iterates through each letter in the string\n",
    "        flag = flag or c.islower() #uses OR operator to check if at least flag or c.islower() is True, then it returns True\n",
    "    return flag #returns result"
   ]
  },
  {
   "cell_type": "markdown",
   "metadata": {},
   "source": [
    "any_lowercase1:\n",
    "only checks to see if the first letter is lower case and returns that result\n",
    "\n",
    "any_lowercase2:\n",
    "checks to see if the string 'c' is lower case, which is always going to be true\n",
    "\n",
    "any_lowercase3:\n",
    "only checks to see if the last letter is lower case and returns that result\n",
    "\n",
    "any_lowercase4:\n",
    "this is the only correct method that checks if any of the letters in the string is lower case and returns the correct result\n",
    "\n",
    "any_lowercase5:\n",
    "basically a copy of any_lowercase1, but makes the logic more complicated by adding NOT and reversing the logic in the if-statements"
   ]
  },
  {
   "cell_type": "markdown",
   "metadata": {},
   "source": [
    "Exercise 8.5. A Caesar cypher is a weak form of encryption that involves “rotating” each letter by\n",
    "a fixed number of places. To rotate a letter means to shift it through the alphabet, wrapping around\n",
    "to the beginning if necessary, so ’A’ rotated by 3 is ’D’ and ’Z’ rotated by 1 is ’A’.\n",
    "\n",
    "To rotate a word, rotate each letter by the same amount. For example, “cheer” rotated by 7 is “jolly”\n",
    "and “melon” rotated by -10 is “cubed”. In the movie 2001: A Space Odyssey, the ship computer\n",
    "is called HAL, which is IBM rotated by -1.\n",
    "\n",
    "Write a function called rotate_word that takes a string and an integer as parameters, and returns\n",
    "a new string that contains the letters from the original string rotated by the given amount.\n",
    "You might want to use the built-in function ord, which converts a character to a numeric code, and chr, which converts numeric codes to characters. Letters of the alphabet are encoded in alphabetical\n",
    "order, so for example:\n",
    "\n",
    "ord('c') - ord('a')\n",
    "2\n",
    "\n",
    "Because 'c' is the two-eth letter of the alphabet. But beware: the numeric codes for upper case\n",
    "letters are different.\n"
   ]
  },
  {
   "cell_type": "code",
   "execution_count": 1,
   "metadata": {},
   "outputs": [
    {
     "name": "stdout",
     "output_type": "stream",
     "text": [
      "cheer\n",
      "BCDE\n",
      "bcde\n",
      "cubed\n",
      "HAL\n"
     ]
    }
   ],
   "source": [
    "def rotate_word(s,n):\n",
    "    result = '' #result of rotation\n",
    "    \n",
    "    for letter in s: #for each letter in the string\n",
    "        if letter.islower(): #check if lower case\n",
    "            x = ord('a')\n",
    "        elif letter.isupper(): #or upper case\n",
    "            x = ord('A')\n",
    "            \n",
    "        letnum = ord(letter) - x # take the numeric code of the current letter minus x\n",
    "        i = (letnum + n) % 26 + x    #take c and the given rotation number and modulo by 26 to come back to 0 (letter a) since alphabet has 26 letters, then add x\n",
    "        result += chr(i) #concatenate chr(i) to result\n",
    "        \n",
    "    return result #then return result of function\n",
    "\n",
    "#test cases\n",
    "print(rotate_word('cheer', 7))\n",
    "print(rotate_word('ABCD', 1))\n",
    "print(rotate_word('abcd', 1))\n",
    "print(rotate_word('melon', -10))\n",
    "print(rotate_word('IBM', -1))\n",
    "    "
   ]
  },
  {
   "cell_type": "markdown",
   "metadata": {},
   "source": [
    "I realized when rotating the letters that when it goes past the letter Z, it starts returning symbols. To aid that, (modulo 26) was needed to come back to the start of the letters and keep the rotations to inside the alphabet."
   ]
  },
  {
   "cell_type": "markdown",
   "metadata": {},
   "source": [
    "Give me a word with three consecutive double letters. I’ll give you a couple of words\n",
    "that almost qualify, but don’t. For example, the word committee, c-o-m-m-i-t-t-e-e. It\n",
    "would be great except for the ‘i’ that sneaks in there. Or Mississippi: M-i-s-s-i-s-s-ip-p-i. If you could take out those i’s it would work. But there is a word that has three\n",
    "consecutive pairs of letters and to the best of my knowledge this may be the only word.\n",
    "Of course there are probably 500 more but I can only think of one. What is the word?\n",
    "\n",
    "Write a program to find it."
   ]
  },
  {
   "cell_type": "code",
   "execution_count": 17,
   "metadata": {},
   "outputs": [
    {
     "name": "stdout",
     "output_type": "stream",
     "text": [
      "False\n",
      "False\n",
      "True\n",
      "True\n"
     ]
    }
   ],
   "source": [
    "def consecutive_double_letters(word):\n",
    "    i=0 #to go through index of word\n",
    "    counter=0 #to count how many double letters there are so far\n",
    "    \n",
    "    while (i < len(word)-1): #while loop to iterate through word till we reach the end of the word (len(word) - 1, because array starts at 0))\n",
    "        if (word[i] == word[i+1]): #if letter and next letter is the same:\n",
    "            counter += 1 #increment counter\n",
    "        \n",
    "            if (counter == 3): #if the counter reaches 3, then word has three consecutive double letters\n",
    "                return True\n",
    "            \n",
    "            i += 2 #add 2 to index to go through the next pair of letters\n",
    "            \n",
    "        else: #else, go to next letter and reset counter to 0\n",
    "            i += 1\n",
    "            counter = 0\n",
    "            \n",
    "    return False #return False as base case\n",
    "\n",
    "#test cases\n",
    "print(consecutive_double_letters('hello'))\n",
    "print(consecutive_double_letters('racecar'))\n",
    "print(consecutive_double_letters('aabbcc'))\n",
    "print(consecutive_double_letters('bookkeeper'))"
   ]
  }
 ],
 "metadata": {
  "kernelspec": {
   "display_name": "Python 3",
   "language": "python",
   "name": "python3"
  },
  "language_info": {
   "codemirror_mode": {
    "name": "ipython",
    "version": 3
   },
   "file_extension": ".py",
   "mimetype": "text/x-python",
   "name": "python",
   "nbconvert_exporter": "python",
   "pygments_lexer": "ipython3",
   "version": "3.8.5"
  }
 },
 "nbformat": 4,
 "nbformat_minor": 4
}
