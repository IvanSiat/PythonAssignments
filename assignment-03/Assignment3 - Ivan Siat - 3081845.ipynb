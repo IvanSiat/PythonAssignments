{
 "cells": [
  {
   "cell_type": "markdown",
   "metadata": {},
   "source": [
    "Ivan Siat - 3081845 Assignment 3"
   ]
  },
  {
   "cell_type": "markdown",
   "metadata": {},
   "source": [
    "Exercise 5.1. The time module provides a function, also named time, that returns the current\n",
    "Greenwich Mean Time in “the epoch”, which is an arbitrary time used as a reference point. On\n",
    "UNIX systems, the epoch is 1 January 1970.\n",
    "\n",
    "import time\n",
    "\n",
    "time.time()\n",
    "\n",
    "1437746094.5735958\n",
    "\n",
    "Write a script that reads the current time and converts it to a time of day in hours, minutes, and\n",
    "seconds, plus the number of days since the epoch."
   ]
  },
  {
   "cell_type": "code",
   "execution_count": 36,
   "metadata": {},
   "outputs": [
    {
     "name": "stdout",
     "output_type": "stream",
     "text": [
      "Current Time (in GMT):  18.0 hours |  30.0 minutes |  20.726480960845947 seconds \n",
      "Days since Epoch:  18655.0\n"
     ]
    }
   ],
   "source": [
    "import time\n",
    "def check_epoch(): \n",
    "    currentGMT = time.time()\n",
    "    \n",
    "    day = currentGMT // (86400) #86400 seconds in a day\n",
    "    currentGMT = currentGMT % (86400) #take modulo to compute for hours\n",
    "    \n",
    "    hour = currentGMT // 3600 #3600 in an hour\n",
    "    currentGMT = currentGMT % (3600) #take modulo to compute for minutes\n",
    "    \n",
    "    minutes = currentGMT // 60 #60 seconds in an minute\n",
    "    currentGMT = currentGMT % (60)#take modulo to compute for seconds\n",
    "    \n",
    "    seconds = currentGMT #remaining left is seconds\n",
    "    \n",
    "    print(\"Current Time (in GMT): \", hour,\"hours | \", minutes, \"minutes | \", seconds, \"seconds \")\n",
    "    print(\"Days since Epoch: \", day)\n",
    "\n",
    "    \n",
    "#test cases\n",
    "check_epoch()"
   ]
  },
  {
   "cell_type": "markdown",
   "metadata": {},
   "source": [
    "Exercise 5.2. Fermat’s Last Theorem says that there are no positive integers a, b, and c such that\n",
    "a^n + b^n = c^n\n",
    "for any values of n greater than 2.\n",
    "\n",
    "1 Write a function named check_fermat that takes four parameters—a, b, c and n— and\n",
    "checks to see if Fermat’s theorem holds. If n is greater than 2 and\n",
    "a^n + b^n = c^n\n",
    "\n",
    "the program should print, “Holy smokes, Fermat was wrong!” Otherwise the program should\n",
    "print, “No, that doesn’t work.”"
   ]
  },
  {
   "cell_type": "code",
   "execution_count": 28,
   "metadata": {},
   "outputs": [
    {
     "name": "stdout",
     "output_type": "stream",
     "text": [
      "No, that doesn't work.\n",
      "No, that doesn't work.\n",
      "Holy smokes, Fermat was wrong!\n"
     ]
    }
   ],
   "source": [
    "def check_fermat(a,b,c,n):\n",
    "    if n > 2 and (a**n + b**n == c**n):     \n",
    "        print(\"Holy smokes, Fermat was wrong!\")\n",
    "    else:\n",
    "        print(\"No, that doesn't work.\")\n",
    "\n",
    "#test cases\n",
    "check_fermat(1,2,3,1)\n",
    "check_fermat(1,2,3,5)\n",
    "check_fermat(0,0,0,3)"
   ]
  },
  {
   "cell_type": "markdown",
   "metadata": {},
   "source": [
    "I couldnt seem to think of other test cases to print out that Fermat was wrong other than a,b,c being 0 and n being above 2. Since 0 isnt a positive integer, it proves that Fermat's Last Theorem is indeed true. "
   ]
  },
  {
   "cell_type": "markdown",
   "metadata": {},
   "source": [
    "Exercise 5.3. If you are given three sticks, you may or may not be able to arrange them in a triangle.\n",
    "For example, if one of the sticks is 12 inches long and the other two are one inch long, you will not\n",
    "be able to get the short sticks to meet in the middle. For any three lengths, there is a simple test to\n",
    "see if it is possible to form a triangle:\n",
    "\n",
    "If any of the three lengths is greater than the sum of the other two, then you cannot\n",
    "form a triangle. Otherwise, you can. (If the sum of two lengths equals the third, they\n",
    "form what is called a “degenerate” triangle.)\n",
    "\n",
    "1 Write a function named is_triangle that takes three integers as arguments, and that prints\n",
    "either “Yes” or “No”, depending on whether you can or cannot form a triangle from sticks\n",
    "with the given lengths"
   ]
  },
  {
   "cell_type": "code",
   "execution_count": 29,
   "metadata": {},
   "outputs": [
    {
     "name": "stdout",
     "output_type": "stream",
     "text": [
      "no\n",
      "yes\n",
      "no\n",
      "yes\n"
     ]
    }
   ],
   "source": [
    "def is_triangle(a, b, c):\n",
    "    #if statements to check if any of the three lengths are greater than the sum of the other 3\n",
    "    if a+b <= c: \n",
    "        print('yes')\n",
    "        \n",
    "    elif c+a <= b:\n",
    "        print('yes')\n",
    "        \n",
    "    elif (b+c <= a):\n",
    "        print('yes')\n",
    "        \n",
    "    else:\n",
    "        print('no')\n",
    "    \n",
    "#test cases\n",
    "is_triangle(5,6,2)\n",
    "is_triangle(2,2,4)\n",
    "is_triangle(2,2,2)\n",
    "is_triangle(22,5,8)"
   ]
  },
  {
   "cell_type": "markdown",
   "metadata": {},
   "source": [
    "Exercise 6.2. The Ackermann function, A(m, n), is defined:\n",
    "\n",
    "A(m, n) =\n",
    "n + 1, if m = 0\n",
    "\n",
    "A(m − 1, 1), if m > 0 and n = 0\n",
    "\n",
    "A(m − 1, A(m, n − 1)), if m > 0 and n > 0.\n",
    "\n",
    "See http: // en. wikipedia. org/ wiki/ Ackermann_ function . Write a function named ack\n",
    "that evaluates the Ackermann function. Use your function to evaluate ack(3, 4), which should be\n",
    "125, What happens for larger values of m and n?"
   ]
  },
  {
   "cell_type": "code",
   "execution_count": 30,
   "metadata": {},
   "outputs": [
    {
     "name": "stdout",
     "output_type": "stream",
     "text": [
      "4\n",
      "5\n",
      "125\n"
     ]
    }
   ],
   "source": [
    "def ack(m,n):\n",
    "    #if m = 0, use first formula\n",
    "    if (m == 0):\n",
    "        return n+1\n",
    "    \n",
    "    #if m > 0 and n = 0, use second formula\n",
    "    elif (m > 0 and n == 0):\n",
    "        return ack(m-1,1)\n",
    "    \n",
    "     #if m and n > 0, use third formula\n",
    "    elif (m > 0 and n > 0):\n",
    "        return ack(m-1, ack(m,n-1))\n",
    "    \n",
    "#test cases\n",
    "print(ack(0,3))\n",
    "print(ack(3,0))\n",
    "print(ack(3,4))"
   ]
  },
  {
   "cell_type": "markdown",
   "metadata": {},
   "source": [
    "Exercise 6.3. A palindrome is a word that is spelled the same backward and forward, like “noon”\n",
    "and “redivider”. Recursively, a word is a palindrome if the first and last letters are the same and the\n",
    "middle is a palindrome.\n",
    "\n",
    "The following are functions that take a string argument and return the first, last, and middle letters:\n",
    "def first(word):\n",
    "return word[0]\n",
    "def last(word):\n",
    "return word[-1]\n",
    "def middle(word):\n",
    "return word[1:-1]\n",
    "\n",
    "We’ll see how they work in Chapter 8.\n",
    "\n",
    "1 Type these functions into a file named palindrome.py and test them out. What happens if\n",
    "you call middle with a string with two letters? One letter? What about the empty string,\n",
    "which is written '' and contains no letters?\n",
    "\n",
    "2 Write a function called is_palindrome that takes a string argument and returns True if it\n",
    "is a palindrome and False otherwise. Remember that you can use the built-in function len\n",
    "to check the length of a string.\n"
   ]
  },
  {
   "cell_type": "code",
   "execution_count": 31,
   "metadata": {},
   "outputs": [
    {
     "name": "stdout",
     "output_type": "stream",
     "text": [
      "h\n",
      "o\n",
      "ell\n",
      "\n",
      "\n",
      "\n",
      "True\n",
      "False\n",
      "True\n",
      "False\n",
      "True\n"
     ]
    }
   ],
   "source": [
    "#for question 1 (see markdown cell below)\n",
    "def first(word):\n",
    "    return word[0]\n",
    "\n",
    "def last(word):\n",
    "    return word[-1]\n",
    "\n",
    "def middle(word):\n",
    "    return word[1:-1]\n",
    "\n",
    "#test cases\n",
    "print(first('hello'))\n",
    "print(last('hello'))\n",
    "print(middle('hello'))\n",
    "\n",
    "print(middle('as'))\n",
    "print(middle('a'))\n",
    "print(middle(' '))\n",
    "\n",
    "#for question 2 is_palindrome\n",
    "def is_palindrome(s):\n",
    "    #if its 1 letter, it is a palindrome\n",
    "    if len(s) == 1: \n",
    "        return True\n",
    "    \n",
    "    #if first and last letter match, and middle is palindrome, it is a palindrome\n",
    "    if first(s) == last(s) and is_palindrome(middle(s)): \n",
    "        return True\n",
    "    \n",
    "    #else, its false\n",
    "    else: \n",
    "        return False\n",
    "    \n",
    "#test cases\n",
    "print(is_palindrome('racecar'))\n",
    "print(is_palindrome('john'))\n",
    "print(is_palindrome('level'))\n",
    "print(is_palindrome('mirror'))\n",
    "print(is_palindrome('a'))"
   ]
  },
  {
   "cell_type": "markdown",
   "metadata": {},
   "source": [
    "middle string with 2 letters prints a whitespace\n",
    "\n",
    "middle string with 1 letter prints whitespace\n",
    "\n",
    "middle string with no letters prints whitespace"
   ]
  },
  {
   "cell_type": "markdown",
   "metadata": {},
   "source": [
    "Exercise 6.4. A number, a, is a power of b if it is divisible by b and a/b is a power of b. Write a\n",
    "function called is_power that takes parameters a and b and returns True if a is a power of b. Note:\n",
    "you will have to think about the base case"
   ]
  },
  {
   "cell_type": "code",
   "execution_count": 32,
   "metadata": {},
   "outputs": [
    {
     "name": "stdout",
     "output_type": "stream",
     "text": [
      "True\n",
      "True\n",
      "False\n"
     ]
    }
   ],
   "source": [
    "def is_power(a,b):\n",
    "    #if a is equal to be, then it a is a power of b (base case)\n",
    "    if a == b: \n",
    "        return True\n",
    "    \n",
    "    #if a/b has no remainder and a/b is a power of b (recursive method)\n",
    "    if a % b == 0 and is_power(a/b,b):\n",
    "        return True\n",
    "    \n",
    "    #else, its false\n",
    "    else: \n",
    "        return False\n",
    "\n",
    "#test cases\n",
    "print(is_power(2,2))\n",
    "print(is_power(9,3))\n",
    "print(is_power(5,4))"
   ]
  },
  {
   "cell_type": "markdown",
   "metadata": {},
   "source": [
    "Exercise 6.5. The greatest common divisor (GCD) of a and b is the largest number that divides\n",
    "both of them with no remainder.\n",
    "One way to find the GCD of two numbers is based on the observation that if r is the remainder when\n",
    "a is divided by b, then gcd(a, b) = gcd(b,r). As a base case, we can use gcd(a, 0) = a.\n",
    "Write a function called gcd that takes parameters a and b and returns their greatest common divisor.\n"
   ]
  },
  {
   "cell_type": "code",
   "execution_count": 33,
   "metadata": {},
   "outputs": [
    {
     "name": "stdout",
     "output_type": "stream",
     "text": [
      "2\n",
      "5\n",
      "1\n"
     ]
    }
   ],
   "source": [
    "def gcd(a,b):\n",
    "    #base case gcd(a,0) = a, which is b being 0\n",
    "    if b == 0: \n",
    "        return a\n",
    "    \n",
    "    else:\n",
    "        return gcd(b,a%b) #recursive method to get gcd(b,r), which is r being a%b\n",
    "\n",
    "#test cases\n",
    "print(gcd(2,4))\n",
    "print(gcd(100,15))\n",
    "print(gcd(72,55))"
   ]
  }
 ],
 "metadata": {
  "kernelspec": {
   "display_name": "Python 3",
   "language": "python",
   "name": "python3"
  },
  "language_info": {
   "codemirror_mode": {
    "name": "ipython",
    "version": 3
   },
   "file_extension": ".py",
   "mimetype": "text/x-python",
   "name": "python",
   "nbconvert_exporter": "python",
   "pygments_lexer": "ipython3",
   "version": "3.8.5"
  }
 },
 "nbformat": 4,
 "nbformat_minor": 4
}
