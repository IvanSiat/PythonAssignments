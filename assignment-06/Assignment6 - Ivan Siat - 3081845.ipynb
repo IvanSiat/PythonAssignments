{
 "cells": [
  {
   "cell_type": "markdown",
   "metadata": {},
   "source": [
    "Ivan Siat - 3081845 Assignment 6"
   ]
  },
  {
   "cell_type": "markdown",
   "metadata": {},
   "source": [
    "Exercise 10.7. Write a function called has_duplicates that takes a list and returns True if there\n",
    "is any element that appears more than once. It should not modify the original list"
   ]
  },
  {
   "cell_type": "code",
   "execution_count": 122,
   "metadata": {},
   "outputs": [
    {
     "name": "stdout",
     "output_type": "stream",
     "text": [
      "False\n",
      "True\n"
     ]
    }
   ],
   "source": [
    "def has_duplicates(x):\n",
    "    for items in x:\n",
    "        if x.count(items) > 1: #if the number of times the item is in the list is greater than 1, then it has duplicates, return True\n",
    "            return True \n",
    "    return False #base case, returns False\n",
    "        \n",
    "#test cases\n",
    "test1 = [1, 2, 3]\n",
    "print(has_duplicates(test1))\n",
    "test2 = [1, 2, 1]\n",
    "print(has_duplicates(test2))"
   ]
  },
  {
   "cell_type": "markdown",
   "metadata": {},
   "source": [
    "Exercise 10.8. This exercise pertains to the so-called Birthday Paradox, which you can read about\n",
    "at http: // en. wikipedia. org/ wiki/ Birthday_ paradox .\n",
    "If there are 23 students in your class, what are the chances that two of you have the same birthday?\n",
    "You can estimate this probability by generating random samples of 23 birthdays and checking for\n",
    "matches. Hint: you can generate random birthdays with the randint function in the random\n",
    "module."
   ]
  },
  {
   "cell_type": "code",
   "execution_count": 75,
   "metadata": {},
   "outputs": [
    {
     "name": "stdout",
     "output_type": "stream",
     "text": [
      "[149, 154, 126, 184, 148, 124, 154, 222, 22, 248, 256, 275, 353, 290, 156, 175, 284, 290, 236, 256, 153, 138, 357]\n",
      "duplicates =  [154, 256, 290]\n",
      "probability =  13.043478260869565 %\n"
     ]
    }
   ],
   "source": [
    "from random import randint\n",
    "def random_birthdays(y): #method to populate a list y with 23 random days of birth\n",
    "    count = 0\n",
    "    while count < 23:\n",
    "        y.append(randint(0, 365))\n",
    "        count += 1\n",
    "    print(y)\n",
    "\n",
    "def birthday_probability():\n",
    "    x = [] #list of birthdays\n",
    "    z = [] #list of dupes\n",
    "    random_birthdays(x)\n",
    "    \n",
    "    for days in x:\n",
    "        if x.count(days) > 1: #if count of days in the list x is greater than 1\n",
    "            if days not in z: #if days isnt on the list z yet\n",
    "                z.append(days) #add to list z\n",
    "            \n",
    "    print('duplicates = ', z)\n",
    "    print('probability = ', (len(z)/len(x)) * 100, '%') #compute average percentage of \n",
    "\n",
    "birthday_probability()"
   ]
  },
  {
   "cell_type": "markdown",
   "metadata": {},
   "source": [
    "Exercise 11.2. Read the documentation of the dictionary method setdefault and use it to write a\n",
    "more concise version of invert_dict."
   ]
  },
  {
   "cell_type": "code",
   "execution_count": 14,
   "metadata": {},
   "outputs": [
    {
     "name": "stdout",
     "output_type": "stream",
     "text": [
      "{'abc': [1], 'def': [2], 'ghi': [3], 'jkl': [4]}\n"
     ]
    }
   ],
   "source": [
    "def invert_dict(d):\n",
    "    inv_dict = {}\n",
    "    for key in d: #for each key in the dictionary\n",
    "        new_key = d[key] #set value as new_key\n",
    "        value = inv_dict.setdefault(new_key, []) #setdefault method using the new key and an empty value\n",
    "        value.append(key) #append old key as new value \n",
    "    return inv_dict\n",
    "\n",
    "#test cases\n",
    "test1={1:'abc', 2:'def',3:'ghi', 4:'jkl'}\n",
    "print(invert_dict(test1))"
   ]
  },
  {
   "cell_type": "markdown",
   "metadata": {},
   "source": [
    "Exercise 11.4. If you did Exercise 10.7, you already have a function named has_duplicates that\n",
    "takes a list as a parameter and returns True if there is any object that appears more than once in the\n",
    "list.\n",
    "Use a dictionary to write a faster, simpler version of has_duplicates."
   ]
  },
  {
   "cell_type": "code",
   "execution_count": 8,
   "metadata": {},
   "outputs": [
    {
     "name": "stdout",
     "output_type": "stream",
     "text": [
      "False\n",
      "True\n"
     ]
    }
   ],
   "source": [
    "def hasdupes_dict(d):\n",
    "    x = {} \n",
    "    for items in d: #for each item in the dictionary d\n",
    "        if items in x: # if item is in the dictionary x\n",
    "            return True #return true\n",
    "        x[items] = True #set value of x[items] to true\n",
    "    return False #return False, base case\n",
    "\n",
    "#test cases\n",
    "test1 = [1, 2 ,3]\n",
    "print(hasdupes_dict(test1))\n",
    "test2 = [1, 2, 1]\n",
    "print(hasdupes_dict(test2))"
   ]
  },
  {
   "cell_type": "markdown",
   "metadata": {},
   "source": [
    "Exercise 11.5. Two words are “rotate pairs” if you can rotate one of them and get the other (see\n",
    "rotate_word in Exercise 8.5).\n",
    "Write a program that reads a wordlist and finds all the rotate pairs.\n"
   ]
  },
  {
   "cell_type": "code",
   "execution_count": 17,
   "metadata": {},
   "outputs": [
    {
     "name": "stdout",
     "output_type": "stream",
     "text": [
      "word: cheer     rotated word: jolly     rotation number: 7\n",
      "word: HAL     rotated word: IBM     rotation number: 1\n",
      "word: jolly     rotated word: cheer     rotation number: 19\n",
      "word: melon     rotated word: cubed     rotation number: 16\n",
      "word: cubed     rotated word: melon     rotation number: 10\n"
     ]
    }
   ],
   "source": [
    "#from assignment 4\n",
    "def rotate_word(s,n):\n",
    "    result = '' #result of rotation\n",
    "    \n",
    "    for letter in s: #for each letter in the string\n",
    "        if letter.islower(): #check if lower case\n",
    "            x = ord('a')\n",
    "        elif letter.isupper(): #or upper case\n",
    "            x = ord('A')\n",
    "            \n",
    "        letnum = ord(letter) - x # take the numeric code of the current letter minus x\n",
    "        i = (letnum + n) % 26 + x    #take c and the given rotation number and modulo by 26 to come back to 0 (letter a) since alphabet has 26 letters, then add x\n",
    "        result += chr(i) #concatenate chr(i) to result\n",
    "        \n",
    "    return result #then return result of function\n",
    "\n",
    "def rotate_pairs(word, dictword):\n",
    "    for i in range(1, 24): \n",
    "        rotated_word = rotate_word(word, i) #rotate word based on integer i from range 1-24\n",
    "        if rotated_word in dictword: #if the rotated word is in word_dict, print word, the range, and the rotated word\n",
    "            print('word:',word, '    rotated word:', rotated_word, '    rotation number:',i) \n",
    "\n",
    "dict = ['cheer','IBM','HAL','jolly', 'melon', 'cubed']\n",
    "for word in dict:\n",
    "    rotate_pairs(word, dict)"
   ]
  },
  {
   "cell_type": "markdown",
   "metadata": {},
   "source": [
    "Exercise 12.1. Write a function called most_frequent that takes a string and prints the letters in decreasing order of frequency. Find text samples from several different languages and see\n",
    "how letter frequency varies between languages. Compare your results with the tables at http:\n",
    "// en. wikipedia. org/ wiki/ Letter_ frequencies ."
   ]
  },
  {
   "cell_type": "code",
   "execution_count": 15,
   "metadata": {},
   "outputs": [
    {
     "name": "stdout",
     "output_type": "stream",
     "text": [
      "[('s', 4), ('e', 3), ('g', 2), ('a', 1), ('r', 1), ('i', 1), ('v', 1), ('n', 1)]\n",
      "[('k', 2), ('a', 2), ('r', 1), ('o', 1), ('e', 1)]\n",
      "[('e', 3), ('o', 2), ('k', 2), ('b', 1), ('p', 1), ('r', 1)]\n",
      "[('e', 4), ('r', 3), ('n', 2), ('t', 1), ('p', 1), ('u', 1)]\n",
      "[('o', 2), ('e', 2), ('i', 2), ('b', 1), ('u', 1), ('r', 1), ('g', 1), ('s', 1)]\n"
     ]
    }
   ],
   "source": [
    "def most_frequent(w):\n",
    "    x = {}\n",
    "    for letter in w:\n",
    "        x[letter] = 0 #adds value 0 to each letter\n",
    "\n",
    "    for letter in w:\n",
    "        if letter in x: #if letter is in x \n",
    "            x[letter] += 1 #add 1 to the value of the letter\n",
    "            \n",
    "    x = sorted(x.items(), key=lambda u: u[1], reverse=True) #sorts the dictionary x by values\n",
    "    print(x)\n",
    "    \n",
    "most_frequent('aggressiveness')\n",
    "most_frequent('karaoke')\n",
    "most_frequent('bookkeeper')\n",
    "most_frequent('entrepreneur')\n",
    "most_frequent('bourgeoisie')"
   ]
  },
  {
   "cell_type": "markdown",
   "metadata": {},
   "source": [
    "Exercise 12.3. Two words form a “metathesis pair” if you can transform one into the other by\n",
    "swapping two letters; for example, “converse” and “conserve”. Write a program that finds all of\n",
    "the metathesis pairs in the dictionary. Hint: don’t test all pairs of words, and don’t test all possible\n",
    "swaps. "
   ]
  },
  {
   "cell_type": "code",
   "execution_count": null,
   "metadata": {},
   "outputs": [],
   "source": []
  }
 ],
 "metadata": {
  "kernelspec": {
   "display_name": "Python 3",
   "language": "python",
   "name": "python3"
  },
  "language_info": {
   "codemirror_mode": {
    "name": "ipython",
    "version": 3
   },
   "file_extension": ".py",
   "mimetype": "text/x-python",
   "name": "python",
   "nbconvert_exporter": "python",
   "pygments_lexer": "ipython3",
   "version": "3.8.5"
  }
 },
 "nbformat": 4,
 "nbformat_minor": 4
}
