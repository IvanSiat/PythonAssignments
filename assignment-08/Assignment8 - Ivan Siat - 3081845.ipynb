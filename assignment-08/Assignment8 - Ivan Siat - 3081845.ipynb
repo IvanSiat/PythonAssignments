{
 "cells": [
  {
   "cell_type": "markdown",
   "metadata": {},
   "source": [
    "Assignment 8 - Ivan Siat - 3081845\n"
   ]
  },
  {
   "cell_type": "markdown",
   "metadata": {},
   "source": [
    "A8-1-TP5.3bis [25] (3 sticks triangle) - Re-solve Think Python 5.3 with NumPy arrays. Write a function are_triangles that takes a 2-dimensional NumPy array with 3 columns and any number of rows, where each row is the lengths of the 3 sticks. The function should return a boolean mask of those rows that are triangles. Include code that tests your code (not necessarily with pytest).\n",
    "\n",
    "\n",
    "Exercise 5.3. If you are given three sticks, you may or may not be able to arrange them in a triangle.\n",
    "For example, if one of the sticks is 12 inches long and the other two are one inch long, you will not\n",
    "be able to get the short sticks to meet in the middle. For any three lengths, there is a simple test to\n",
    "see if it is possible to form a triangle:\n",
    "\n",
    "If any of the three lengths is greater than the sum of the other two, then you cannot\n",
    "form a triangle. Otherwise, you can. (If the sum of two lengths equals the third, they\n",
    "form what is called a “degenerate” triangle.)\n",
    "\n",
    "1 Write a function named is_triangle that takes three integers as arguments, and that prints\n",
    "either “Yes” or “No”, depending on whether you can or cannot form a triangle from sticks\n",
    "with the given lengths"
   ]
  },
  {
   "cell_type": "code",
   "execution_count": 9,
   "metadata": {},
   "outputs": [
    {
     "name": "stdout",
     "output_type": "stream",
     "text": [
      "True\n",
      "False\n",
      "False\n",
      "True\n",
      "True\n"
     ]
    }
   ],
   "source": [
    "import numpy as np\n",
    "def are_triangles(narray):\n",
    "    for row in narray:\n",
    "        #take the 3 values from each row and compare a, b, and c if they are triangles, like in 5.3\n",
    "        a = row[0]\n",
    "        b = row[1]\n",
    "        c = row[2]\n",
    "        #check a,b, or c if any of the three lengths is greater than the sum of the other two\n",
    "        if a+b <= c: \n",
    "            print(a+b <= c)\n",
    "        \n",
    "        elif c+a <= b:\n",
    "            print(c+a <= b)\n",
    "        \n",
    "        elif b+c <= a:\n",
    "            print(b+c <= a)\n",
    "\n",
    "        else:\n",
    "            print('False')\n",
    "        \n",
    "        \n",
    "#test cases\n",
    "test1 = np.array([[1, 2, 3], [4,5,6], [7,8,9], [22,5,8], [2,2,4]])\n",
    "are_triangles(test1)\n",
    "\n"
   ]
  },
  {
   "cell_type": "markdown",
   "metadata": {},
   "source": [
    "A8-2 [50] One way to estimate the value of pi is to use the Monte Carlo method. Read https://en.wikipedia.org/wiki/Monte_Carlo_method which explains the general concept and which has this use as its first example in the \"Overview\" section.\n",
    "\n",
    "\n",
    "Implement a faster solution using NumPy. Use timeit to compare the speed of the two solutions."
   ]
  },
  {
   "cell_type": "code",
   "execution_count": 6,
   "metadata": {},
   "outputs": [
    {
     "name": "stdout",
     "output_type": "stream",
     "text": [
      "3.1683168316831685\n"
     ]
    }
   ],
   "source": [
    "#Here is a pure Python solution, also posted as monte_carlo_pi.py:\n",
    "import random\n",
    "import sys\n",
    "\n",
    "def mc_pi():\n",
    "    inside_unit_circle = total_points = 0\n",
    "    while True:\n",
    "        total_points += 1\n",
    "        a, b = random.random(), random.random()\n",
    "        if a ** 2 + b ** 2 < 1:\n",
    "            inside_unit_circle += 1\n",
    "        yield 4 * inside_unit_circle / total_points\n",
    "\n",
    "\n",
    "def main(max_iterations=200):\n",
    "    for i, pi in enumerate(mc_pi()):\n",
    "        if i > max_iterations:\n",
    "            break\n",
    "    print(pi)\n",
    "\n",
    "\n",
    "main()"
   ]
  },
  {
   "cell_type": "code",
   "execution_count": 8,
   "metadata": {},
   "outputs": [
    {
     "name": "stdout",
     "output_type": "stream",
     "text": [
      "numpy montecarlo =  3.14103\n",
      "math.pi =  3.141592653589793\n"
     ]
    }
   ],
   "source": [
    "import numpy as np\n",
    "import math\n",
    "\n",
    "def montercarlo_pi():\n",
    "    #numpy version of the scipy montecarlo method in the Wiki\n",
    "    pi_range = 10000000 #the most accurate pi_range can go without causing any errors is 10000000, any higher than that crashes the program\n",
    "    x = np.random.rand(pi_range) #x coordinate in the circle\n",
    "    y = np.random.rand(pi_range) #y coordinate in unit circle\n",
    "    pi_xy = [(x[i], y[i]) for i in range(pi_range) if math.sqrt(x[i] ** 2 + y[i] ** 2) < 1]\n",
    "    \n",
    "    print('numpy montecarlo = ', 4 * len(pi_xy) / len(x)) #len of pi_xy is inside_unit_circle, len of x is total points\n",
    "    print('math.pi = ', math.pi) #for comparison\n",
    "    \n",
    "\n",
    "\n",
    "montercarlo_pi()"
   ]
  },
  {
   "cell_type": "markdown",
   "metadata": {},
   "source": [
    "A8-3 [30] Use a NumPy array containing a single integer 2, stored as an unsigned integer, to calculate 2 raised to the 63rd power minus 1. Then convert or print that value as a binary number. This requires relatively little code, but you'll need to use NumPy's dtype, think carefully about the types of objects, and review or lookup ways to display a value as binary."
   ]
  },
  {
   "cell_type": "code",
   "execution_count": 69,
   "metadata": {},
   "outputs": [
    {
     "name": "stdout",
     "output_type": "stream",
     "text": [
      "0b111111111111111111111111111111111111111111111111111111111111110\n"
     ]
    }
   ],
   "source": [
    "test2 = np.array([2**63-1],dtype=np.uint64) #store 2^63-1 as unsigned int\n",
    "print(bin(test_bin[0])) #convert to binary"
   ]
  },
  {
   "cell_type": "code",
   "execution_count": null,
   "metadata": {},
   "outputs": [],
   "source": []
  }
 ],
 "metadata": {
  "kernelspec": {
   "display_name": "Python 3",
   "language": "python",
   "name": "python3"
  },
  "language_info": {
   "codemirror_mode": {
    "name": "ipython",
    "version": 3
   },
   "file_extension": ".py",
   "mimetype": "text/x-python",
   "name": "python",
   "nbconvert_exporter": "python",
   "pygments_lexer": "ipython3",
   "version": "3.8.5"
  }
 },
 "nbformat": 4,
 "nbformat_minor": 4
}
