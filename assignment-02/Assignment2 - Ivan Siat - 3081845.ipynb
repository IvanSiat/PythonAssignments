{
 "cells": [
  {
   "cell_type": "markdown",
   "metadata": {},
   "source": [
    "Ivan Siat - 3081845\n",
    "Assignment 2"
   ]
  },
  {
   "cell_type": "markdown",
   "metadata": {},
   "source": [
    "Exercise 3.1. Write a function named right_justify that takes a string named s as a parameter\n",
    "and prints the string with enough leading spaces so that the last letter of the string is in column 70\n",
    "of the display.\n",
    "right_justify('monty')\n",
    "monty\n",
    "Hint: Use string concatenation and repetition. Also, Python provides a built-in function called len\n",
    "that returns the length of a string, so the value of len('monty') is 5."
   ]
  },
  {
   "cell_type": "code",
   "execution_count": 23,
   "metadata": {
    "scrolled": true
   },
   "outputs": [
    {
     "name": "stdout",
     "output_type": "stream",
     "text": [
      "                                                                 monty\n"
     ]
    }
   ],
   "source": [
    "def right_justify(s):\n",
    "    i = 70 - len(s)\n",
    "    x = ' '\n",
    "    print(i*x+s)\n",
    "    \n",
    "right_justify('monty')"
   ]
  },
  {
   "cell_type": "markdown",
   "metadata": {},
   "source": [
    "Exercise 3.2. A function object is a value you can assign to a variable or pass as an argument. For\n",
    "example, do_twice is a function that takes a function object as an argument and calls it twice:\n",
    "def do_twice(f):\n",
    "f()\n",
    "f()\n",
    "Here’s an example that uses do_twice to call a function named print_spam twice.\n",
    "def print_spam():\n",
    "print('spam')\n",
    "do_twice(print_spam)\n",
    "1. Type this example into a script and test it.\n",
    "2. Modify do_twice so that it takes two arguments, a function object and a value, and calls the\n",
    "function twice, passing the value as an argument.\n",
    "3. Copy the definition of print_twice from earlier in this chapter to your script.\n",
    "4. Use the modified version of do_twice to call print_twice twice, passing 'spam' as an\n",
    "argument.\n",
    "5. Define a new function called do_four that takes a function object and a value and calls the\n",
    "function four times, passing the value as a parameter. There should be only two statements in\n",
    "the body of this function, not four"
   ]
  },
  {
   "cell_type": "code",
   "execution_count": 24,
   "metadata": {},
   "outputs": [
    {
     "name": "stdout",
     "output_type": "stream",
     "text": [
      "spam\n",
      "spam\n",
      " \n",
      "spam\n",
      "spam\n",
      "spam\n",
      "spam\n"
     ]
    }
   ],
   "source": [
    "# 1/2.)\n",
    "def do_twice(f, a):\n",
    "    f(a)\n",
    "    f(a)\n",
    "\n",
    "# 3.)\n",
    "def print_twice(arg):\n",
    "    print(arg)\n",
    "    print(arg)\n",
    "\n",
    "# 4.)    \n",
    "do_twice(print,'spam')\n",
    "\n",
    "print (' ')\n",
    "\n",
    "# 5.)\n",
    "def do_four(f, a):\n",
    "    do_twice(f, a)\n",
    "    do_twice(f, a)\n",
    "    \n",
    "do_four(print, 'spam');"
   ]
  },
  {
   "cell_type": "markdown",
   "metadata": {},
   "source": [
    "Exercise 3.3. Note: This exercise should be done using only the statements and other features we\n",
    "have learned so far.\n",
    "1. Write a function that draws a grid like the following:\n",
    "Hint: to print more than one value on a line, you can print a comma-separated sequence of\n",
    "values:\n",
    "print('+', '-')\n",
    "By default, print advances to the next line, but you can override that behavior and put a\n",
    "space at the end, like this:\n",
    "print('+', end=' ')\n",
    "print('-')\n",
    "The output of these statements is '+ -' on the same line. The output from the next print\n",
    "statement would begin on the next line.\n",
    "2. Write a function that draws a similar grid with four rows and four columns.\n"
   ]
  },
  {
   "cell_type": "code",
   "execution_count": 25,
   "metadata": {},
   "outputs": [
    {
     "name": "stdout",
     "output_type": "stream",
     "text": [
      "+ - - - - + - - - - +\n",
      "|         |         |\n",
      "|         |         |\n",
      "|         |         |\n",
      "|         |         |\n",
      "+ - - - - + - - - - +\n",
      "|         |         |\n",
      "|         |         |\n",
      "|         |         |\n",
      "|         |         |\n",
      "+ - - - - + - - - - +\n"
     ]
    }
   ],
   "source": [
    "def do_twice(f):\n",
    "    f()\n",
    "    f()\n",
    "\n",
    "def do_four(f):\n",
    "    do_twice(f)\n",
    "    do_twice(f)\n",
    "\n",
    "def horizontalLine():\n",
    "    print('+ - - - -', end=' ')\n",
    "\n",
    "def verticalLine():\n",
    "    print('|        ', end=' ')\n",
    "\n",
    "def printHorizontal():\n",
    "    do_twice(horizontalLine)\n",
    "    print('+')\n",
    "\n",
    "def printVertical():\n",
    "    do_twice(verticalLine)\n",
    "    print('|')\n",
    "    \n",
    "def printRow():\n",
    "    do_four(printVertical)\n",
    "    printHorizontal()\n",
    "\n",
    "def printGrid():\n",
    "    printHorizontal()\n",
    "    do_twice(printRow)\n",
    "\n",
    "printGrid()\n",
    "\n",
    "    "
   ]
  },
  {
   "cell_type": "markdown",
   "metadata": {},
   "source": [
    "At first i hard coded it until i realized i can use do_twice and do_four on some of the methods since they repeated (like printHorizontal and printRow for example). Also i realized i could clean up some of the code that repeated and just put them into a method and call do_twice on that method (like printRow for example)."
   ]
  },
  {
   "cell_type": "code",
   "execution_count": 26,
   "metadata": {},
   "outputs": [
    {
     "name": "stdout",
     "output_type": "stream",
     "text": [
      "+ - - - - + - - - - + - - - - + - - - - +\n",
      "|         |         |         |         |\n",
      "|         |         |         |         |\n",
      "|         |         |         |         |\n",
      "|         |         |         |         |\n",
      "+ - - - - + - - - - + - - - - + - - - - +\n",
      "|         |         |         |         |\n",
      "|         |         |         |         |\n",
      "|         |         |         |         |\n",
      "|         |         |         |         |\n",
      "+ - - - - + - - - - + - - - - + - - - - +\n",
      "|         |         |         |         |\n",
      "|         |         |         |         |\n",
      "|         |         |         |         |\n",
      "|         |         |         |         |\n",
      "+ - - - - + - - - - + - - - - + - - - - +\n",
      "|         |         |         |         |\n",
      "|         |         |         |         |\n",
      "|         |         |         |         |\n",
      "|         |         |         |         |\n",
      "+ - - - - + - - - - + - - - - + - - - - +\n"
     ]
    }
   ],
   "source": [
    "def do_twice(f):\n",
    "    f()\n",
    "    f()\n",
    "\n",
    "def do_four(f):\n",
    "    do_twice(f)\n",
    "    do_twice(f)\n",
    "\n",
    "def horizontalLine():\n",
    "    print('+ - - - -', end=' ')\n",
    "\n",
    "def verticalLine():\n",
    "    print('|        ', end=' ')\n",
    "\n",
    "def printHorizontal():\n",
    "    do_four(horizontalLine)\n",
    "    print('+')\n",
    "\n",
    "def printVertical():\n",
    "    do_four(verticalLine)\n",
    "    print('|')\n",
    "    \n",
    "def printRow():\n",
    "    do_four(printVertical)\n",
    "    printHorizontal()\n",
    "    \n",
    "def printGrid():\n",
    "    printHorizontal()\n",
    "    do_four(printRow)\n",
    "    \n",
    "printGrid()"
   ]
  },
  {
   "cell_type": "markdown",
   "metadata": {},
   "source": [
    "I had the same realizations here as the 2x2 grid, except theres more repetition here (like printHorizontal having to call do_four instead of do_twice) but all in all, it was pretty straightforward once I found what i needed to repeat "
   ]
  }
 ],
 "metadata": {
  "kernelspec": {
   "display_name": "Python 3",
   "language": "python",
   "name": "python3"
  },
  "language_info": {
   "codemirror_mode": {
    "name": "ipython",
    "version": 3
   },
   "file_extension": ".py",
   "mimetype": "text/x-python",
   "name": "python",
   "nbconvert_exporter": "python",
   "pygments_lexer": "ipython3",
   "version": "3.8.5"
  }
 },
 "nbformat": 4,
 "nbformat_minor": 4
}
