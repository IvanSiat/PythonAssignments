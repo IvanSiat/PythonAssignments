{
 "cells": [
  {
   "cell_type": "markdown",
   "metadata": {},
   "source": [
    "Ivan Siat - 3081845 Assignment 5"
   ]
  },
  {
   "cell_type": "markdown",
   "metadata": {},
   "source": [
    "Exercise 7.3. The mathematician Srinivasa Ramanujan found an infinite series that can be used to\n",
    "generate a numerical approximation of 1/π:\n",
    "1\n",
    "π\n",
    "=\n",
    "2\n",
    "√\n",
    "2\n",
    "9801\n",
    "∞\n",
    "∑\n",
    "k=0\n",
    "(4k)!(1103 + 26390k)\n",
    "(k!)\n",
    "43964k\n",
    "\n",
    "Write a function called estimate_pi that uses this formula to compute and return an estimate of\n",
    "π. It should use a while loop to compute terms of the summation until the last term is smaller than\n",
    "1e-15 (which is Python notation for 10−15). You can check the result by comparing it to math.pi.\n"
   ]
  },
  {
   "cell_type": "code",
   "execution_count": 1,
   "metadata": {},
   "outputs": [
    {
     "name": "stdout",
     "output_type": "stream",
     "text": [
      "3.141592653589793\n",
      "True\n"
     ]
    }
   ],
   "source": [
    "import math\n",
    "def factorial(n):\n",
    "    if n == 0:\n",
    "        return 1 #because factorial of 0 is 1\n",
    "    else:\n",
    "        return n * factorial(n-1) #recursive function to compute factorial\n",
    "\n",
    "def estimate_pi():\n",
    "    sum = 0\n",
    "    k = 0\n",
    "    factor = 2*math.sqrt(2) / 9801 #factor 2*sqrt(2) / 9801 in equation\n",
    "    \n",
    "    while True:\n",
    "        x = factorial(4*k) * (1103 + 26390*k) #top half of equation\n",
    "        y = factorial(k)**4 * 396**(4*k) #bottom half of equation\n",
    "        n = factor * (x / y) #summation total times factor\n",
    "        sum += n #total sum\n",
    "        \n",
    "        if n < 1e-15: #if n is less than 10^-15, break while loop\n",
    "            break\n",
    "            \n",
    "        k += 1 #add 1 to k to continue while loop\n",
    "        \n",
    "    return 1/sum\n",
    "\n",
    "\n",
    "#test case\n",
    "print(estimate_pi())\n",
    "print(estimate_pi() == math.pi)"
   ]
  },
  {
   "cell_type": "markdown",
   "metadata": {},
   "source": [
    "Exercise 9.9. Here’s another Car Talk Puzzler you can solve with a search (http: // www.\n",
    "cartalk. com/ content/ puzzlers ):\n",
    "\n",
    "“Recently I had a visit with my mom and we realized that the two digits that make\n",
    "up my age when reversed resulted in her age. For example, if she’s 73, I’m 37. We\n",
    "wondered how often this has happened over the years but we got sidetracked with other\n",
    "topics and we never came up with an answer.\n",
    "\n",
    "“When I got home I figured out that the digits of our ages have been reversible six times\n",
    "so far. I also figured out that if we’re lucky it would happen again in a few years, and\n",
    "if we’re really lucky it would happen one more time after that. In other words, it would\n",
    "have happened 8 times over all. So the question is, how old am I now?”\n",
    "\n",
    "Write a Python program that searches for solutions to this Puzzler. Hint: you might find the string\n",
    "method zfill useful."
   ]
  },
  {
   "cell_type": "code",
   "execution_count": null,
   "metadata": {},
   "outputs": [],
   "source": [
    "#breakdown:\n",
    "# so far, ages have been reversible 6 times\n",
    "# if lucky, it would happen again one more time\n",
    "# if really lucky, it would happen one last time\n",
    "# 8 total possible\n",
    "\n",
    "def ages_reversed(x, y):\n",
    "    return str(x).zfill(0) == str(y).zfill(0)[::-1] #takes both integers and reverses y and checks if x and y are palindrome numbers\n",
    "\n",
    "def age_reverse_list(x, y):\n",
    "    difference = 0\n",
    "    count = 0\n",
    "    difference = abs(x-y)\n",
    "        \n",
    "        \n",
    "    newX = x\n",
    "    newY = y\n",
    "    \n",
    "    #while ages arent 0 \n",
    "    while newX > 0 or newY > 0 :\n",
    "        if ages_reversed(newX,newY):\n",
    "            count = count + 1\n",
    "            newX = newX - 1\n",
    "            newY = newY - 1\n",
    "            \n",
    "    return count\n",
    "\n",
    "\n",
    "age_reverse_list(37,73)\n"
   ]
  },
  {
   "cell_type": "markdown",
   "metadata": {},
   "source": [
    "Exercise 10.1. Write a function called nested_sum that takes a list of lists of integers and adds up\n",
    "the elements from all of the nested lists. For example:\n",
    "\n",
    "\n",
    "\n",
    "t = [[1, 2], [3], [4, 5, 6]]\n",
    "\n",
    "nested_sum(t)\n",
    "\n",
    "21\n",
    "\n"
   ]
  },
  {
   "cell_type": "code",
   "execution_count": 2,
   "metadata": {},
   "outputs": [
    {
     "data": {
      "text/plain": [
       "21"
      ]
     },
     "execution_count": 2,
     "metadata": {},
     "output_type": "execute_result"
    }
   ],
   "source": [
    "def nested_sum(t):\n",
    "    sum = 0;\n",
    "    \n",
    "    for n in t: #for each nested list in the list\n",
    "        for i in n: #for each number in the nested list\n",
    "            sum += i; #add to sum\n",
    "        \n",
    "    return sum;\n",
    "\n",
    "#test case\n",
    "t = [[1, 2], [3], [4, 5, 6]]\n",
    "nested_sum(t)"
   ]
  },
  {
   "cell_type": "markdown",
   "metadata": {},
   "source": [
    "Exercise 10.2. Write a function called cumsum that takes a list of numbers and returns the cumulative sum; that is, a new list where the ith element is the sum of the first i + 1 elements from the\n",
    "original list. For example:\n",
    "\n",
    "t = [1, 2, 3]\n",
    " \n",
    "cumsum(t)\n",
    "\n",
    "[1, 3, 6]"
   ]
  },
  {
   "cell_type": "code",
   "execution_count": 3,
   "metadata": {},
   "outputs": [
    {
     "data": {
      "text/plain": [
       "[1, 3, 6]"
      ]
     },
     "execution_count": 3,
     "metadata": {},
     "output_type": "execute_result"
    }
   ],
   "source": [
    "def cumsum(t):\n",
    "    sum = 0\n",
    "    x = []\n",
    "    \n",
    "    for n in t: #for each number in list\n",
    "        sum += n #get sum of current number and cumulative sum of previous numbers\n",
    "        x.append(sum) #append sum to a list\n",
    "        \n",
    "    return x \n",
    "\n",
    "#test case\n",
    "t = [1, 2, 3]\n",
    "cumsum(t)"
   ]
  },
  {
   "cell_type": "markdown",
   "metadata": {},
   "source": [
    "Exercise 10.6. \n",
    "\n",
    "Two words are anagrams if you can rearrange the letters from one to spell the other.\n",
    "Write a function called is_anagram that takes two strings and returns True if they are anagrams."
   ]
  },
  {
   "cell_type": "code",
   "execution_count": 4,
   "metadata": {},
   "outputs": [
    {
     "name": "stdout",
     "output_type": "stream",
     "text": [
      "True\n",
      "False\n",
      "True\n"
     ]
    }
   ],
   "source": [
    "def is_anagram(w1, w2):\n",
    "    #make strings into list\n",
    "    list_w1 = list(w1) \n",
    "    list_w2 = list(w2)\n",
    "    \n",
    "    #sort strings for easy comparison, now we can compare each string against each others' index\n",
    "    list_w1.sort()\n",
    "    list_w2.sort()\n",
    "    \n",
    "    anagram = True\n",
    "    i = 0;\n",
    "    \n",
    "    while i < len(list_w2) and anagram == True: #while index counter i is less than the string list AND anagram check is true\n",
    "        if list_w1[i] == list_w2[i]: #if string has the same letter on the same index\n",
    "            i = i + 1; #go to the next letter \n",
    "        else:\n",
    "            anagram = False; #else, its not an anagram\n",
    "    \n",
    "    return anagram\n",
    "\n",
    "#test case\n",
    "print(is_anagram('racecar','racecar'))\n",
    "print(is_anagram('anagram', 'manager'))\n",
    "print(is_anagram('listen', 'silent'))"
   ]
  }
 ],
 "metadata": {
  "kernelspec": {
   "display_name": "Python 3",
   "language": "python",
   "name": "python3"
  },
  "language_info": {
   "codemirror_mode": {
    "name": "ipython",
    "version": 3
   },
   "file_extension": ".py",
   "mimetype": "text/x-python",
   "name": "python",
   "nbconvert_exporter": "python",
   "pygments_lexer": "ipython3",
   "version": "3.8.5"
  }
 },
 "nbformat": 4,
 "nbformat_minor": 4
}
