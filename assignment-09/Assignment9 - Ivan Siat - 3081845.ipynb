{
 "cells": [
  {
   "cell_type": "markdown",
   "metadata": {},
   "source": [
    "Assignment 9 - Ivan Siat - 3081845"
   ]
  },
  {
   "cell_type": "markdown",
   "metadata": {},
   "source": [
    "A9-1 [15] Create a 1-D NumPy array with the first 16 digits of pi (as integers in the range 0 to 9), by using math.pi. Hint: this is similar to Think Python exercise 9.9."
   ]
  },
  {
   "cell_type": "code",
   "execution_count": 38,
   "metadata": {},
   "outputs": [
    {
     "data": {
      "text/plain": [
       "array(['3', '1', '4', '1', '5', '9', '2', '6', '5', '3', '5', '8', '9',\n",
       "       '7', '9', '3'], dtype='<U11')"
      ]
     },
     "execution_count": 38,
     "metadata": {},
     "output_type": "execute_result"
    }
   ],
   "source": [
    "import numpy as np\n",
    "import math\n",
    "string_pi = str(math.pi).zfill(0)[:17].replace('.','')\n",
    "np_pi = np.array([], dtype=int)\n",
    "for number in string_pi:\n",
    "    np_pi = np.append(np_pi, number)\n",
    "    \n",
    "np_pi"
   ]
  },
  {
   "cell_type": "markdown",
   "metadata": {},
   "source": [
    "A9-2 [10] Calculate the sum of 1/2 + 1/4 + 1/8 + ... + 1/(2**99) + 1/(2**100) by using techniques presented in PDSH section 2.03. You may use a Pandas Series if you prefer. Remember that even NumPy 'uint64' cannot represent 2 ** 100 (try this to see that: np.array(2 ** 100, dtype='uint64'), but you can use dtype 'float64' instead."
   ]
  },
  {
   "cell_type": "code",
   "execution_count": null,
   "metadata": {},
   "outputs": [],
   "source": []
  }
 ],
 "metadata": {
  "kernelspec": {
   "display_name": "Python 3",
   "language": "python",
   "name": "python3"
  },
  "language_info": {
   "codemirror_mode": {
    "name": "ipython",
    "version": 3
   },
   "file_extension": ".py",
   "mimetype": "text/x-python",
   "name": "python",
   "nbconvert_exporter": "python",
   "pygments_lexer": "ipython3",
   "version": "3.8.5"
  }
 },
 "nbformat": 4,
 "nbformat_minor": 4
}
